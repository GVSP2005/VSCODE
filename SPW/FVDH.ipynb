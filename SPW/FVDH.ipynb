{
 "cells": [
  {
   "cell_type": "code",
   "execution_count": 1,
   "metadata": {},
   "outputs": [],
   "source": [
    "import torch\n",
    "from torch import nn\n",
    "from torchvision import datasets,transforms\n",
    "from torch.utils.data import DataLoader,random_split\n",
    "from torch import optim\n",
    "from sklearn.metrics import classification_report\n",
    "import matplotlib.pyplot as plt"
   ]
  },
  {
   "cell_type": "code",
   "execution_count": 2,
   "metadata": {},
   "outputs": [],
   "source": [
    "transform=transforms.Compose([\n",
    "    transforms.ToTensor(),#tranforms to the tensor\n",
    "    transforms.Resize((256,256),),\n",
    "    transforms.Normalize((0.5,),(0.5,))#just copied\n",
    "])\n",
    "root=r\"C:\\Users\\saipr\\Downloads\\archive (1)prajith\\Fruit And Vegetable Diseases Dataset\"\n",
    "dataset=datasets.ImageFolder(root=root,transform=transform)#it will divide classes w.r.t to no.of folders inside it"
   ]
  },
  {
   "cell_type": "code",
   "execution_count": 3,
   "metadata": {},
   "outputs": [],
   "source": [
    "train_size=int(0.6*(len(dataset)))\n",
    "val_size=int(0.2*(len(dataset)))\n",
    "test_size=len(dataset)-train_size-val_size\n",
    "train_data,val_data,test_data=random_split(dataset,[train_size,val_size,test_size])\n",
    "train_loader=DataLoader(train_data,batch_size=64,shuffle=True)#train_data(that we are passing) should be tensor(my understanding)\n",
    "val_loader=DataLoader(val_data,batch_size=64,shuffle=True)\n",
    "test_loader=DataLoader(test_data,batch_size=64,shuffle=True)\n"
   ]
  },
  {
   "cell_type": "code",
   "execution_count": 4,
   "metadata": {},
   "outputs": [],
   "source": [
    "class_names=dataset.classes#gives the  classes names\n",
    "class_idx=dataset.class_to_idx"
   ]
  },
  {
   "cell_type": "code",
   "execution_count": 5,
   "metadata": {},
   "outputs": [],
   "source": [
    "class CNN(nn.Module):\n",
    "    def __init__(self,input_size,output_size):\n",
    "        super().__init__()\n",
    "        self.network=nn.Sequential(#intially I wrote self as nn\n",
    "            nn.Conv2d(in_channels=3,out_channels=4,kernel_size=3,stride=1,padding=1),#these in channels are rbg colors of a colored photo\n",
    "            nn.ReLU(),\n",
    "            nn.MaxPool2d(kernel_size=2,stride=2),\n",
    "            nn.Conv2d(in_channels=4,out_channels=8,kernel_size=3,stride=1,padding=1),\n",
    "            nn.ReLU(),\n",
    "            nn.MaxPool2d(kernel_size=2,stride=2),\n",
    "            nn.Conv2d(in_channels=8,out_channels=16,kernel_size=3,stride=1,padding=1),\n",
    "            nn.ReLU(),\n",
    "            nn.MaxPool2d(kernel_size=2,stride=2),\n",
    "            nn.Conv2d(in_channels=16,out_channels=32,kernel_size=3,stride=1,padding=1),\n",
    "            nn.ReLU(),\n",
    "            nn.MaxPool2d(kernel_size=2,stride=2),\n",
    "            nn.Conv2d(in_channels=32,out_channels=32,kernel_size=3,stride=1,padding=1),\n",
    "            nn.ReLU(),\n",
    "            nn.MaxPool2d(kernel_size=2,stride=2),\n",
    "            nn.Flatten(),     \n",
    "            nn.Linear(32*8*8,64),\n",
    "            nn.ReLU(),\n",
    "            nn.Linear(64,output_size)            \n",
    "        )\n",
    "    def forward(self,x):\n",
    "        return self.network(x)"
   ]
  },
  {
   "cell_type": "code",
   "execution_count": 6,
   "metadata": {},
   "outputs": [],
   "source": [
    "model=CNN(input_size=256*256,output_size=len(dataset.classes))\n",
    "criterion=nn.CrossEntropyLoss()\n",
    "optimiser=optim.Adam(model.parameters(),lr=0.001)"
   ]
  },
  {
   "cell_type": "code",
   "execution_count": 7,
   "metadata": {},
   "outputs": [
    {
     "name": "stderr",
     "output_type": "stream",
     "text": [
      "C:\\Users\\saipr\\AppData\\Roaming\\Python\\Python312\\site-packages\\PIL\\Image.py:981: UserWarning: Palette images with Transparency expressed in bytes should be converted to RGBA images\n",
      "  warnings.warn(\n"
     ]
    },
    {
     "name": "stdout",
     "output_type": "stream",
     "text": [
      "Loss in Epoch [1/20]:2.1163434982299805 \n",
      "Loss in Epoch [2/20]:1.780981421470642 \n",
      "Loss in Epoch [3/20]:1.4977457523345947 \n",
      "Loss in Epoch [4/20]:1.1073744297027588 \n"
     ]
    }
   ],
   "source": [
    "num_epochs=20\n",
    "train_losses,val_losses=[],[]\n",
    "model.train()\n",
    "for epoch in range(num_epochs):\n",
    " for input,output in train_loader:\n",
    "    pred_output=model(input)\n",
    "    loss=criterion(pred_output,output)\n",
    "    \n",
    "    optimiser.zero_grad()\n",
    "    loss.backward()\n",
    "    optimiser.step()\n",
    " train_losses.append(loss.item()/len(train_loader))\n",
    " print(f'Loss in Epoch [{epoch+1}/{num_epochs}]:{loss} ')\n",
    "\n"
   ]
  },
  {
   "cell_type": "code",
   "execution_count": null,
   "metadata": {},
   "outputs": [],
   "source": [
    "\n",
    "model.eval()\n",
    "with torch.no_grad():\n",
    "    for epoch in range(20):\n",
    "        for input,output in val_loader:\n",
    "            pred_out=model(input)\n",
    "            loss=criterion(pred_out,output)\n",
    "        val_losses.append(loss.item()/len(val_loader))"
   ]
  },
  {
   "cell_type": "code",
   "execution_count": null,
   "metadata": {},
   "outputs": [],
   "source": [
    "def ClassificationReport(model,loader):\n",
    "    y_test,y_pred=[],[]\n",
    "    model.eval()\n",
    "    with torch.no_grad():\n",
    "        for input,output in loader:\n",
    "            pred_output=model(input)\n",
    "            y_test.extend(output.numpy())\n",
    "            y_pred.extend(torch.argmax(pred_output,dim=1).numpy())\n",
    "    model.train()\n",
    "    print(classification_report(y_test,y_pred))\n",
    "    \n",
    "    for i in range(3):\n",
    "        tc=sum(1 for y,x in zip(y_pred,y_test) if (y==i)&(x==i))\n",
    "        ac=sum(1 for y in y_test if y==i)\n",
    "        print(f'{list(class_idx.keys())[i]}: [{tc}/{ac}]')\n"
   ]
  },
  {
   "cell_type": "code",
   "execution_count": null,
   "metadata": {},
   "outputs": [],
   "source": [
    "print('classification report of training phase:')\n",
    "ClassificationReport(model,train_loader)\n"
   ]
  },
  {
   "cell_type": "code",
   "execution_count": null,
   "metadata": {},
   "outputs": [],
   "source": [
    "print('Classification Report of validation set:')\n",
    "ClassificationReport(model,val_loader)\n",
    "plt.plot(train_losses,label='Training loss')\n",
    "plt.plot(val_losses,label='validation loss')\n",
    "plt.legend()\n",
    "plt.xlabel('epochs')\n",
    "plt.ylabel('loss')\n",
    "plt.show()"
   ]
  },
  {
   "cell_type": "code",
   "execution_count": null,
   "metadata": {},
   "outputs": [],
   "source": [
    "print('Classification Report of testing phase:')\n",
    "ClassificationReport(model,test_loader)"
   ]
  }
 ],
 "metadata": {
  "kernelspec": {
   "display_name": "Python 3",
   "language": "python",
   "name": "python3"
  },
  "language_info": {
   "codemirror_mode": {
    "name": "ipython",
    "version": 3
   },
   "file_extension": ".py",
   "mimetype": "text/x-python",
   "name": "python",
   "nbconvert_exporter": "python",
   "pygments_lexer": "ipython3",
   "version": "3.12.1"
  }
 },
 "nbformat": 4,
 "nbformat_minor": 2
}
